{
 "cells": [
  {
   "cell_type": "code",
   "id": "initial_id",
   "metadata": {
    "collapsed": true,
    "ExecuteTime": {
     "end_time": "2024-06-04T19:39:16.193704Z",
     "start_time": "2024-06-04T19:39:15.686283Z"
    }
   },
   "source": [
    "import multiprocessing\n",
    "def myFunc(i):\n",
    "    print ('calling myFunc from process n°: %s' %i)\n",
    "    for j in range (0,i):\n",
    "        print('output from myFunc is :%s' %j)\n",
    "    return\n",
    "if __name__ == '__main__':   \n",
    "    for i in range (6) :\n",
    "        process = multiprocessing.Process(target=myFunc, args=(i,))\n",
    "        process.start()\n",
    "        process. join ()"
   ],
   "outputs": [],
   "execution_count": 9
  },
  {
   "metadata": {
    "ExecuteTime": {
     "end_time": "2024-06-04T05:18:07.735891Z",
     "start_time": "2024-06-04T05:18:07.491561Z"
    }
   },
   "cell_type": "code",
   "source": [
    "import multiprocessing\n",
    "import time\n",
    "\n",
    "def myFunc():\n",
    "    name = multiprocessing.current_process().name\n",
    "    print (\"Starting process name = %s \\n\" %name)\n",
    "    time.sleep(3)\n",
    "    print (\"Exiting process name = %s \\n\" %name)\n",
    "\n",
    "if __name__ == '__main__':\n",
    "    process_with_name = multiprocessing.Process\\\n",
    "                        (name='myFunc process',\\\n",
    "                         target=myFunc)\n",
    "\n",
    "    #process_with_name.daemon = True\n",
    "\n",
    "    process_with_default_name = multiprocessing.Process\\\n",
    "                                (target=myFunc)\n",
    "\n",
    "    process_with_name.start()\n",
    "    process_with_default_name.start()\n",
    "\n",
    "    process_with_name.join()\n",
    "    process_with_default_name.join()\n",
    "    \n",
    "    "
   ],
   "id": "46a59bd6612cab2e",
   "outputs": [],
   "execution_count": 5
  },
  {
   "metadata": {
    "ExecuteTime": {
     "end_time": "2024-06-04T05:18:34.369935Z",
     "start_time": "2024-06-04T05:18:34.326877Z"
    }
   },
   "cell_type": "code",
   "source": [
    "import multiprocessing\n",
    "import time\n",
    "\n",
    "def foo():\n",
    "    name = multiprocessing.current_process().name\n",
    "    print (\"Starting %s \\n\" %name)\n",
    "    if name == 'background_process':\n",
    "        for i in range(0,5):\n",
    "            print('---> %d \\n' %i)\n",
    "        time.sleep(1)\n",
    "    else:\n",
    "        for i in range(5,10):\n",
    "            print('---> %d \\n' %i)\n",
    "        time.sleep(1)\n",
    "    print (\"Exiting %s \\n\" %name)\n",
    "    \n",
    "\n",
    "if __name__ == '__main__':\n",
    "    background_process = multiprocessing.Process\\\n",
    "                         (name='background_process',\\\n",
    "                          target=foo)\n",
    "    background_process.daemon = True\n",
    "\n",
    "    NO_background_process = multiprocessing.Process\\\n",
    "                            (name='NO_background_process',\\\n",
    "                             target=foo)\n",
    "    \n",
    "    NO_background_process.daemon = False\n",
    "    \n",
    "    background_process.start()\n",
    "    NO_background_process.start()\n",
    "    "
   ],
   "id": "d7f8ece937ec0b72",
   "outputs": [],
   "execution_count": 6
  },
  {
   "metadata": {
    "ExecuteTime": {
     "end_time": "2024-06-04T05:18:40.401803Z",
     "start_time": "2024-06-04T05:18:40.376711Z"
    }
   },
   "cell_type": "code",
   "source": [
    "import multiprocessing\n",
    "import time\n",
    "\n",
    "def foo():\n",
    "    name = multiprocessing.current_process().name\n",
    "    print (\"Starting %s \\n\" %name)\n",
    "    if name == 'background_process':\n",
    "        for i in range(0,5):\n",
    "            print('---> %d \\n' %i)\n",
    "        time.sleep(1)\n",
    "    else:\n",
    "        for i in range(5,10):\n",
    "            print('---> %d \\n' %i)\n",
    "        time.sleep(1)\n",
    "    print (\"Exiting %s \\n\" %name)\n",
    "    \n",
    "\n",
    "if __name__ == '__main__':\n",
    "    background_process = multiprocessing.Process\\\n",
    "                         (name='background_process',\\\n",
    "                          target=foo)\n",
    "    background_process.daemon = False\n",
    "\n",
    "    NO_background_process = multiprocessing.Process\\\n",
    "                            (name='NO_background_process',\\\n",
    "                             target=foo)\n",
    "    \n",
    "    NO_background_process.daemon = False\n",
    "    \n",
    "    background_process.start()\n",
    "    NO_background_process.start()\n",
    "    "
   ],
   "id": "9d721f421037247f",
   "outputs": [],
   "execution_count": 7
  },
  {
   "metadata": {
    "ExecuteTime": {
     "end_time": "2024-06-04T05:18:57.922173Z",
     "start_time": "2024-06-04T05:18:57.886885Z"
    }
   },
   "cell_type": "code",
   "source": [
    "import multiprocessing\n",
    "import time\n",
    "\n",
    "def foo():\n",
    "    print ('Starting function')\n",
    "    for i in range(0,10):\n",
    "        print('-->%d\\n' %i)\n",
    "        time.sleep(1)\n",
    "    print ('Finished function')\n",
    "\n",
    "if __name__ == '__main__':\n",
    "    p = multiprocessing.Process(target=foo)\n",
    "    print ('Process before execution:', p, p.is_alive())\n",
    "    p.start()\n",
    "    print ('Process running:', p, p.is_alive())\n",
    "    p.terminate()\n",
    "    print ('Process terminated:', p, p.is_alive())\n",
    "    p.join()\n",
    "    print ('Process joined:', p, p.is_alive())\n",
    "    print ('Process exit code:', p.exitcode)"
   ],
   "id": "70258244bc14e9fd",
   "outputs": [
    {
     "name": "stdout",
     "output_type": "stream",
     "text": [
      "Process before execution: <Process name='Process-7' parent=29224 initial> False\n",
      "Process running: <Process name='Process-7' pid=20356 parent=29224 started> True\n",
      "Process terminated: <Process name='Process-7' pid=20356 parent=29224 started> True\n",
      "Process joined: <Process name='Process-7' pid=20356 parent=29224 stopped exitcode=-SIGTERM> False\n",
      "Process exit code: -15\n"
     ]
    }
   ],
   "execution_count": 8
  },
  {
   "metadata": {
    "ExecuteTime": {
     "end_time": "2024-06-04T05:19:15.503643Z",
     "start_time": "2024-06-04T05:19:14.666543Z"
    }
   },
   "cell_type": "code",
   "source": [
    "import multiprocessing\n",
    "\n",
    "class MyProcess(multiprocessing.Process):\n",
    "\n",
    "    def run(self):\n",
    "        print ('called run method in %s' %self.name)\n",
    "        return\n",
    "\n",
    "if __name__ == '__main__':\n",
    "    for i in range(10):\n",
    "        process = MyProcess()\n",
    "        process.start()\n",
    "        process.join()"
   ],
   "id": "9b554f7b08edaffa",
   "outputs": [],
   "execution_count": 9
  },
  {
   "metadata": {
    "ExecuteTime": {
     "end_time": "2024-06-04T05:19:27.841621Z",
     "start_time": "2024-06-04T05:19:27.646615Z"
    }
   },
   "cell_type": "code",
   "source": [
    "import multiprocessing\n",
    "import random\n",
    "import time\n",
    "\n",
    "class producer(multiprocessing.Process):\n",
    "    def __init__(self, queue):\n",
    "        multiprocessing.Process.__init__(self)\n",
    "        self.queue = queue\n",
    "\n",
    "    def run(self) :\n",
    "        for i in range(10):\n",
    "            item = random.randint(0, 256)\n",
    "            self.queue.put(item) \n",
    "            print (\"Process Producer : item %d appended to queue %s\"\\\n",
    "                   % (item,self.name))\n",
    "            time.sleep(1)\n",
    "            print (\"The size of queue is %s\"\\\n",
    "                   % self.queue.qsize())\n",
    "       \n",
    "class consumer(multiprocessing.Process):\n",
    "    def __init__(self, queue):\n",
    "        multiprocessing.Process.__init__(self)\n",
    "        self.queue = queue\n",
    "\n",
    "    def run(self):\n",
    "        while True:\n",
    "            if (self.queue.empty()):\n",
    "                print(\"the queue is empty\")\n",
    "                break\n",
    "            else :\n",
    "                time.sleep(2)\n",
    "                item = self.queue.get()\n",
    "                print ('Process Consumer : item %d popped \\\n",
    "                        from by %s \\n'\\\n",
    "                       % (item, self.name))\n",
    "                time.sleep(1)\n",
    "\n",
    "\n",
    "if __name__ == '__main__':\n",
    "        queue = multiprocessing.Queue()\n",
    "        process_producer = producer(queue)\n",
    "        process_consumer = consumer(queue)\n",
    "        process_producer.start()\n",
    "        process_consumer.start()\n",
    "        process_producer.join()\n",
    "        process_consumer.join()\n",
    "\n",
    "\n",
    "        \n",
    "        \n",
    "         "
   ],
   "id": "cae8fdf7cf5fe0cb",
   "outputs": [],
   "execution_count": 10
  },
  {
   "metadata": {
    "jupyter": {
     "is_executing": true
    },
    "ExecuteTime": {
     "start_time": "2024-06-04T05:19:46.846539Z"
    }
   },
   "cell_type": "code",
   "source": [
    "##Using Pipes with multiprocessing – Chapter 3: Process Based Parallelism\n",
    "\n",
    "import multiprocessing \n",
    " \n",
    " \n",
    "def create_items(pipe):\n",
    "    output_pipe, _ = pipe\n",
    "    for item in range(10):\n",
    "        output_pipe.send(item)\n",
    "    output_pipe.close()\n",
    " \n",
    "def multiply_items(pipe_1, pipe_2):\n",
    "    close, input_pipe = pipe_1\n",
    "    close.close()\n",
    "    output_pipe, _ = pipe_2\n",
    "    try:\n",
    "        while True:\n",
    "            item = input_pipe.recv()\n",
    "            output_pipe.send(item * item)\n",
    "    except EOFError:\n",
    "        output_pipe.close()\n",
    " \n",
    " \n",
    "if __name__== '__main__':\n",
    "\n",
    "#First process pipe with numbers from 0 to 9\n",
    "    pipe_1 = multiprocessing.Pipe(True)\n",
    "    process_pipe_1 = \\\n",
    "                   multiprocessing.Process\\\n",
    "                   (target=create_items, args=(pipe_1,))\n",
    "    process_pipe_1.start()\n",
    "\n",
    "#second pipe,\n",
    "    pipe_2 = multiprocessing.Pipe(True)\n",
    "    process_pipe_2 = \\\n",
    "                   multiprocessing.Process\\\n",
    "                   (target=multiply_items, args=(pipe_1, pipe_2,))\n",
    "    process_pipe_2.start()\n",
    " \n",
    "    pipe_1[0].close()\n",
    "    pipe_2[0].close()\n",
    "\n",
    "    try:\n",
    "        while True:\n",
    "            \n",
    "            print (pipe_2[1].recv())\n",
    "    except EOFError:\n",
    "        print (\"End\")"
   ],
   "id": "a889f43d435ff725",
   "outputs": [],
   "execution_count": null
  },
  {
   "metadata": {},
   "cell_type": "code",
   "outputs": [],
   "execution_count": null,
   "source": [
    "import multiprocessing\n",
    "from multiprocessing import Barrier, Lock, Process\n",
    "from time import time\n",
    "from datetime import datetime\n",
    "\n",
    "\n",
    "def test_with_barrier(synchronizer, serializer):\n",
    "    name = multiprocessing.current_process().name\n",
    "    synchronizer.wait()\n",
    "    now = time()\n",
    "    with serializer:\n",
    "        print(\"process %s ----> %s\" \\\n",
    "              %(name,datetime.fromtimestamp(now)))\n",
    "\n",
    "def test_without_barrier():\n",
    "    name = multiprocessing.current_process().name\n",
    "    now = time()\n",
    "    print(\"process %s ----> %s\" \\\n",
    "          %(name ,datetime.fromtimestamp(now)))\n",
    "\n",
    "if __name__ == '__main__':\n",
    "    synchronizer = Barrier(2)\n",
    "    serializer = Lock()\n",
    "    Process(name='p1 - test_with_barrier'\\\n",
    "            ,target=test_with_barrier,\\\n",
    "            args=(synchronizer,serializer)).start()\n",
    "    Process(name='p2 - test_with_barrier'\\\n",
    "            ,target=test_with_barrier,\\\n",
    "            args=(synchronizer,serializer)).start()\n",
    "    Process(name='p3 - test_without_barrier'\\\n",
    "            ,target=test_without_barrier).start()\n",
    "    Process(name='p4 - test_without_barrier'\\\n",
    "            ,target=test_without_barrier).start()\n",
    "    "
   ],
   "id": "670a24e873b36227"
  },
  {
   "metadata": {},
   "cell_type": "code",
   "outputs": [],
   "execution_count": null,
   "source": [
    "#Using a Process Pool – Chapter 3: Process Based Parallelism\n",
    "import multiprocessing\n",
    "\n",
    "def function_square(data):\n",
    "    result = data*data\n",
    "    return result\n",
    "\n",
    "\n",
    "if __name__ == '__main__':\n",
    "    inputs = list(range(0,100))\n",
    "    pool = multiprocessing.Pool(processes=4)\n",
    "    pool_outputs = pool.map(function_square, inputs)\n",
    "\n",
    "    pool.close() \n",
    "    pool.join()  \n",
    "    print ('Pool    :', pool_outputs)"
   ],
   "id": "df6f2fcda733e3b4"
  }
 ],
 "metadata": {
  "kernelspec": {
   "display_name": "Python 3",
   "language": "python",
   "name": "python3"
  },
  "language_info": {
   "codemirror_mode": {
    "name": "ipython",
    "version": 2
   },
   "file_extension": ".py",
   "mimetype": "text/x-python",
   "name": "python",
   "nbconvert_exporter": "python",
   "pygments_lexer": "ipython2",
   "version": "2.7.6"
  }
 },
 "nbformat": 4,
 "nbformat_minor": 5
}
